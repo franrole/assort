{
 "cells": [
  {
   "cell_type": "code",
   "execution_count": 34,
   "metadata": {
    "collapsed": false
   },
   "outputs": [
    {
     "name": "stdout",
     "output_type": "stream",
     "text": [
      "[[ 0.  1.  1.  0.  0.]\n",
      " [ 1.  0.  1.  0.  0.]\n",
      " [ 1.  1.  0.  0.  0.]\n",
      " [ 0.  0.  0.  0.  1.]\n",
      " [ 0.  0.  0.  1.  0.]]\n",
      "0.59375\n",
      "1.0\n"
     ]
    }
   ],
   "source": [
    "import numpy as np\n",
    "\n",
    "##### compute C\n",
    "#z=np.array([0,0,0,1,1])\n",
    "z=np.array([0,0,0,1,1])\n",
    "g=len(np.unique(z))\n",
    "Z=np.mat(np.zeros((len(z),g)))\n",
    "for k in np.arange(g) :\n",
    "    indices=np.where(z==k)[0]\n",
    "    Z[indices,k]=1\n",
    "C_temp=Z * Z.T    \n",
    "diag_C=np.diag(np.diag(C_temp))\n",
    "C=C_temp - diag_C           # do not take loops into account      \n",
    "###### A_ij\n",
    "A=np.zeros((5,5))\n",
    "A[1,0]=1. ; A[0,1]=1. ; A[2,0]=1. ; A[0,2]=1. ; A[1,2]=1. ; A[2,1]=1. ; A[3,4]=1. ; A[4,3]=1.\n",
    "m=A.sum()/2\n",
    "print(A)\n",
    "###### (k_i * k_j ) / 2m\n",
    "k_i=np.matrix(A.sum(axis=0))\n",
    "kikj2m=k_i.T.dot(k_i) / (2. *m)\n",
    "\n",
    "#####  A_ij - (  (k_i * k_j ) / 2m) )\n",
    "Aij_minus_kikj2m= A - kikj2m\n",
    "\n",
    "##### covariance, max, normalized modularity ###########\n",
    "\n",
    "covariance=np.sum(np.multiply(Aij_minus_kikj2m , C) ) / (2. *m)\n",
    "\n",
    "max_val=( (2 * m) - np.sum(np.multiply(kikj2m , C) ) ) / (2. *m)\n",
    "\n",
    "print(covariance)\n",
    "norm_mod=covariance  / max_val\n",
    "print(norm_mod)\n",
    "#print(np.sum(np.multiply(A ,C)))\n",
    "#print(m)\n",
    "\n"
   ]
  },
  {
   "cell_type": "markdown",
   "metadata": {},
   "source": [
    "Scalar attribute"
   ]
  },
  {
   "cell_type": "code",
   "execution_count": 47,
   "metadata": {
    "collapsed": false
   },
   "outputs": [
    {
     "name": "stdout",
     "output_type": "stream",
     "text": [
      "[[ 0.  1.  1.  0.  0.]\n",
      " [ 1.  0.  1.  0.  0.]\n",
      " [ 1.  1.  0.  0.  0.]\n",
      " [ 0.  0.  0.  0.  1.]\n",
      " [ 0.  0.  0.  1.  0.]]\n",
      "-0.370493162039\n"
     ]
    }
   ],
   "source": [
    "import numpy as np\n",
    "\n",
    "##### compute\n",
    "\n",
    "x_i=np.matrix([3,60,2,5,5]) # attributes of node i\n",
    "xixj=x_i.T * x_i\n",
    "\n",
    "###### A_ij\n",
    "A=np.zeros((5,5) )\n",
    "A[1,0]=1. ; A[0,1]=1. ; A[2,0]=1. ; A[0,2]=1. ; A[1,2]=1. ; A[2,1]=1. ; A[3,4]=1. ; A[4,3]=1.\n",
    "m=A.sum()/2\n",
    "print(A)\n",
    "###### (k_i * k_j ) / 2m\n",
    "k_i=np.matrix(A.sum(axis=0))\n",
    "kikj2m=k_i.T.dot(k_i) / (2. *m)\n",
    "\n",
    "#####  A_ij - (  (k_i * k_j ) / 2m) )\n",
    "Aij_minus_kikj2m= A - kikj2m\n",
    "\n",
    "##### covariance, max ###########\n",
    "covariance=np.sum(np.multiply(Aij_minus_kikj2m , xixj) ) / (2. *m)\n",
    "max_val= ( np.sum(np.multiply(A,np.multiply(x_i.T,x_i.T)) ) - np.sum(np.multiply(kikj2m , xixj) ) )/ (2. *m)\n",
    "print(covariance / max_val)\n",
    "\n",
    "# compute delta\n",
    "#xixi=np.multiply(x_i.T,x_i.T)\n",
    "#difference=xixj - xixi\n",
    "#print(difference)\n",
    "#equal_indices=np.where(difference==0)\n",
    "#delta_ij=np.zeros((A.shape[0],A.shape[1]))\n",
    "#delta_ij[equal_indices]=1\n",
    "\n"
   ]
  },
  {
   "cell_type": "code",
   "execution_count": null,
   "metadata": {
    "collapsed": true
   },
   "outputs": [],
   "source": [
    "\n",
    "\n",
    "\n",
    "=np.matrix([-3,-3,50,50]) # attributes of node i\n",
    "xixj=x_i.T * x_i\n",
    "\n",
    "###### A_ij\n",
    "A=np.zeros((4,4))\n",
    "A[1,0]=1. ; A[0,1]=1. ; A[2,3]=1. ; A[3,2]=1.\n",
    "m=A.sum()/2\n",
    "\n",
    "###### (k_i * k_j ) / 2m\n",
    "k_i=np.matrix(A.sum(axis=0))\n",
    "kikj2m=k_i.T.dot(k_i) / (2. *m)\n",
    "\n",
    "#####  A_ij - (  (k_i * k_j ) / 2m) )\n",
    "Aij_minus_kikj2m= A - kikj2m\n",
    "\n",
    "\n",
    "##### covariance ###########\n",
    "\n",
    "covariance=np.sum(np.multiply(Aij_minus_kikj2m , xixj) ) / (2. *m)\n",
    "\n",
    "##### assortativity coefficient ###########\n",
    "\n",
    "# compute delta\n",
    "xixi=np.multiply(x_i.T,x_i.T)\n",
    "difference=xixj - xixi\n",
    "print(difference)\n",
    "equal_indices=np.where(difference==0)\n",
    "delta_ij=A=np.zeros((A.shape[0],A.shape[1]))\n",
    "delta_ij[equal_indices]=1\n",
    "\n",
    "\n",
    "ki_times_delta_ij = np.multiply(delta_ij ,k_i.T )\n",
    "ki_times_delta_ij_minus_kikj2m = ki_times_delta_ij - kikj2m\n",
    "denominator=np.sum(np.multiply(ki_times_delta_ij_minus_kikj2m , xixj) ) / (2. *m)\n",
    "\n",
    "r=covariance / denominator\n",
    "r\n",
    "\n",
    "#kikj2m_times_xixj= np.multiply(kikj2m ,xixj)\n",
    "#kikj2m_times_xixj\n"
   ]
  },
  {
   "cell_type": "code",
   "execution_count": 57,
   "metadata": {
    "collapsed": false
   },
   "outputs": [
    {
     "name": "stdout",
     "output_type": "stream",
     "text": [
      "[[    0     0  -159  -159]\n",
      " [    0     0  -159  -159]\n",
      " [-2650 -2650     0     0]\n",
      " [-2650 -2650     0     0]]\n",
      "[[ 1.  1.  0.  0.]\n",
      " [ 1.  1.  0.  0.]\n",
      " [ 0.  0.  1.  1.]\n",
      " [ 0.  0.  1.  1.]]\n"
     ]
    },
    {
     "data": {
      "text/plain": [
       "0.35888590775520635"
      ]
     },
     "execution_count": 57,
     "metadata": {},
     "output_type": "execute_result"
    }
   ],
   "source": [
    "import numpy as np\n",
    "\n",
    "x_i=np.matrix([-3,-3,50,50]) # attributes of node i\n",
    "xixj=x_i.T * x_i\n",
    "\n",
    "###### A_ij\n",
    "A=np.zeros((4,4))\n",
    "A[1,0]=1. ; A[0,1]=1. ; A[2,3]=1. ; A[3,2]=1.\n",
    "m=A.sum()/2\n",
    "\n",
    "###### (k_i * k_j ) / 2m\n",
    "k_i=np.matrix(A.sum(axis=0))\n",
    "kikj2m=k_i.T.dot(k_i) / (2. *m)\n",
    "\n",
    "#####  A_ij - (  (k_i * k_j ) / 2m) )\n",
    "Aij_minus_kikj2m= A - kikj2m\n",
    "\n",
    "\n",
    "##### covariance ###########\n",
    "\n",
    "covariance=np.sum(np.multiply(Aij_minus_kikj2m , xixj) ) / (2. *m)\n",
    "\n",
    "##### assortativity coefficient ###########\n",
    "\n",
    "# compute delta\n",
    "xixi=np.multiply(x_i.T,x_i.T)\n",
    "difference=xixj - xixi\n",
    "print(difference)\n",
    "equal_indices=np.where(difference==0)\n",
    "delta_ij=A=np.zeros((A.shape[0],A.shape[1]))\n",
    "delta_ij[equal_indices]=1\n",
    "\n",
    "\n",
    "ki_times_delta_ij = np.multiply(delta_ij ,k_i.T )\n",
    "ki_times_delta_ij_minus_kikj2m = ki_times_delta_ij - kikj2m\n",
    "denominator=np.sum(np.multiply(ki_times_delta_ij_minus_kikj2m , xixj) ) / (2. *m)\n",
    "\n",
    "r=covariance / denominator\n",
    "r\n",
    "\n",
    "#kikj2m_times_xixj= np.multiply(kikj2m ,xixj)\n",
    "#kikj2m_times_xixj\n"
   ]
  },
  {
   "cell_type": "code",
   "execution_count": null,
   "metadata": {
    "collapsed": true
   },
   "outputs": [],
   "source": []
  }
 ],
 "metadata": {
  "kernelspec": {
   "display_name": "Python 3",
   "language": "python",
   "name": "python3"
  },
  "language_info": {
   "codemirror_mode": {
    "name": "ipython",
    "version": 3
   },
   "file_extension": ".py",
   "mimetype": "text/x-python",
   "name": "python",
   "nbconvert_exporter": "python",
   "pygments_lexer": "ipython3",
   "version": "3.4.3"
  }
 },
 "nbformat": 4,
 "nbformat_minor": 0
}
